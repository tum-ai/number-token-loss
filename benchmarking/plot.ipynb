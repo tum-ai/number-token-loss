{
 "cells": [
  {
   "cell_type": "code",
   "execution_count": 1,
   "metadata": {},
   "outputs": [],
   "source": [
    "import pandas as pd\n",
    "import seaborn as sns\n",
    "import matplotlib.pyplot as plt"
   ]
  },
  {
   "cell_type": "code",
   "execution_count": 2,
   "metadata": {},
   "outputs": [],
   "source": [
    "sns.set_context(\"paper\")\n",
    "sns.set_palette(\"colorblind\")"
   ]
  },
  {
   "cell_type": "code",
   "execution_count": 4,
   "metadata": {},
   "outputs": [
    {
     "data": {
      "text/html": [
       "<div>\n",
       "<style scoped>\n",
       "    .dataframe tbody tr th:only-of-type {\n",
       "        vertical-align: middle;\n",
       "    }\n",
       "\n",
       "    .dataframe tbody tr th {\n",
       "        vertical-align: top;\n",
       "    }\n",
       "\n",
       "    .dataframe thead th {\n",
       "        text-align: right;\n",
       "    }\n",
       "</style>\n",
       "<table border=\"1\" class=\"dataframe\">\n",
       "  <thead>\n",
       "    <tr style=\"text-align: right;\">\n",
       "      <th></th>\n",
       "      <th>loss</th>\n",
       "      <th>standalone</th>\n",
       "      <th>forward pass</th>\n",
       "      <th>training step</th>\n",
       "    </tr>\n",
       "  </thead>\n",
       "  <tbody>\n",
       "    <tr>\n",
       "      <th>0</th>\n",
       "      <td>CE Loss</td>\n",
       "      <td>10.391809</td>\n",
       "      <td>36.774334</td>\n",
       "      <td>28.852799</td>\n",
       "    </tr>\n",
       "    <tr>\n",
       "      <th>1</th>\n",
       "      <td>MSE Loss</td>\n",
       "      <td>0.361356</td>\n",
       "      <td>29.323266</td>\n",
       "      <td>27.295143</td>\n",
       "    </tr>\n",
       "    <tr>\n",
       "      <th>2</th>\n",
       "      <td>Wassserstein Loss</td>\n",
       "      <td>3.599772</td>\n",
       "      <td>33.516636</td>\n",
       "      <td>29.253610</td>\n",
       "    </tr>\n",
       "    <tr>\n",
       "      <th>3</th>\n",
       "      <td>Abs Diff NTL Loss</td>\n",
       "      <td>0.548638</td>\n",
       "      <td>29.155187</td>\n",
       "      <td>28.315606</td>\n",
       "    </tr>\n",
       "  </tbody>\n",
       "</table>\n",
       "</div>"
      ],
      "text/plain": [
       "                loss  standalone  forward pass  training step\n",
       "0            CE Loss   10.391809     36.774334      28.852799\n",
       "1           MSE Loss    0.361356     29.323266      27.295143\n",
       "2  Wassserstein Loss    3.599772     33.516636      29.253610\n",
       "3  Abs Diff NTL Loss    0.548638     29.155187      28.315606"
      ]
     },
     "execution_count": 4,
     "metadata": {},
     "output_type": "execute_result"
    }
   ],
   "source": [
    "df = pd.read_csv('benchmark_results_173393122115.csv')\n",
    "df.head()"
   ]
  },
  {
   "cell_type": "code",
   "execution_count": 5,
   "metadata": {},
   "outputs": [
    {
     "data": {
      "text/html": [
       "<div>\n",
       "<style scoped>\n",
       "    .dataframe tbody tr th:only-of-type {\n",
       "        vertical-align: middle;\n",
       "    }\n",
       "\n",
       "    .dataframe tbody tr th {\n",
       "        vertical-align: top;\n",
       "    }\n",
       "\n",
       "    .dataframe thead th {\n",
       "        text-align: right;\n",
       "    }\n",
       "</style>\n",
       "<table border=\"1\" class=\"dataframe\">\n",
       "  <thead>\n",
       "    <tr style=\"text-align: right;\">\n",
       "      <th></th>\n",
       "      <th>loss</th>\n",
       "      <th>benchmark</th>\n",
       "      <th>time</th>\n",
       "    </tr>\n",
       "  </thead>\n",
       "  <tbody>\n",
       "    <tr>\n",
       "      <th>0</th>\n",
       "      <td>CE Loss</td>\n",
       "      <td>standalone</td>\n",
       "      <td>10.391809</td>\n",
       "    </tr>\n",
       "    <tr>\n",
       "      <th>1</th>\n",
       "      <td>MSE Loss</td>\n",
       "      <td>standalone</td>\n",
       "      <td>0.361356</td>\n",
       "    </tr>\n",
       "    <tr>\n",
       "      <th>2</th>\n",
       "      <td>Wassserstein Loss</td>\n",
       "      <td>standalone</td>\n",
       "      <td>3.599772</td>\n",
       "    </tr>\n",
       "    <tr>\n",
       "      <th>3</th>\n",
       "      <td>Abs Diff NTL Loss</td>\n",
       "      <td>standalone</td>\n",
       "      <td>0.548638</td>\n",
       "    </tr>\n",
       "    <tr>\n",
       "      <th>4</th>\n",
       "      <td>CE Loss</td>\n",
       "      <td>forward pass</td>\n",
       "      <td>36.774334</td>\n",
       "    </tr>\n",
       "    <tr>\n",
       "      <th>5</th>\n",
       "      <td>MSE Loss</td>\n",
       "      <td>forward pass</td>\n",
       "      <td>29.323266</td>\n",
       "    </tr>\n",
       "    <tr>\n",
       "      <th>6</th>\n",
       "      <td>Wassserstein Loss</td>\n",
       "      <td>forward pass</td>\n",
       "      <td>33.516636</td>\n",
       "    </tr>\n",
       "    <tr>\n",
       "      <th>7</th>\n",
       "      <td>Abs Diff NTL Loss</td>\n",
       "      <td>forward pass</td>\n",
       "      <td>29.155187</td>\n",
       "    </tr>\n",
       "    <tr>\n",
       "      <th>8</th>\n",
       "      <td>CE Loss</td>\n",
       "      <td>training step</td>\n",
       "      <td>28.852799</td>\n",
       "    </tr>\n",
       "    <tr>\n",
       "      <th>9</th>\n",
       "      <td>MSE Loss</td>\n",
       "      <td>training step</td>\n",
       "      <td>27.295143</td>\n",
       "    </tr>\n",
       "    <tr>\n",
       "      <th>10</th>\n",
       "      <td>Wassserstein Loss</td>\n",
       "      <td>training step</td>\n",
       "      <td>29.253610</td>\n",
       "    </tr>\n",
       "    <tr>\n",
       "      <th>11</th>\n",
       "      <td>Abs Diff NTL Loss</td>\n",
       "      <td>training step</td>\n",
       "      <td>28.315606</td>\n",
       "    </tr>\n",
       "  </tbody>\n",
       "</table>\n",
       "</div>"
      ],
      "text/plain": [
       "                 loss      benchmark       time\n",
       "0             CE Loss     standalone  10.391809\n",
       "1            MSE Loss     standalone   0.361356\n",
       "2   Wassserstein Loss     standalone   3.599772\n",
       "3   Abs Diff NTL Loss     standalone   0.548638\n",
       "4             CE Loss   forward pass  36.774334\n",
       "5            MSE Loss   forward pass  29.323266\n",
       "6   Wassserstein Loss   forward pass  33.516636\n",
       "7   Abs Diff NTL Loss   forward pass  29.155187\n",
       "8             CE Loss  training step  28.852799\n",
       "9            MSE Loss  training step  27.295143\n",
       "10  Wassserstein Loss  training step  29.253610\n",
       "11  Abs Diff NTL Loss  training step  28.315606"
      ]
     },
     "execution_count": 5,
     "metadata": {},
     "output_type": "execute_result"
    }
   ],
   "source": [
    "df_long = df.melt(id_vars=\"loss\", var_name=\"benchmark\", value_name=\"time\")\n",
    "df_long"
   ]
  },
  {
   "cell_type": "code",
   "execution_count": null,
   "metadata": {},
   "outputs": [],
   "source": [
    "df_long[\"number_share\"]"
   ]
  },
  {
   "cell_type": "code",
   "execution_count": 6,
   "metadata": {},
   "outputs": [
    {
     "data": {
      "image/png": "[encoded data removed]",
      "text/plain": [
       "<Figure size 1000x600 with 1 Axes>"
      ]
     },
     "metadata": {},
     "output_type": "display_data"
    }
   ],
   "source": [
    "import seaborn as sns\n",
    "import matplotlib.pyplot as plt\n",
    "\n",
    "# Set Seaborn style\n",
    "sns.set(style=\"whitegrid\")\n",
    "\n",
    "# Create the bar plot\n",
    "plt.figure(figsize=(10, 6))\n",
    "sns.barplot(data = df_long, x=\"benchmark\", y=\"time\", hue=\"loss\", palette=\"viridis\")\n",
    "\n",
    "# Customize the plot\n",
    "plt.title(\"Execution time by Loss Function\", fontsize=16)\n",
    "plt.xlabel(\"\", fontsize=14)\n",
    "plt.ylabel(\"Execution time in s\", fontsize=14)\n",
    "plt.legend(title=\"Loss Function\", fontsize=12)\n",
    "plt.xticks(fontsize=12)\n",
    "plt.yticks(fontsize=12)\n",
    "plt.tight_layout()\n",
    "\n",
    "# Show the plot\n",
    "plt.show()\n"
   ]
  },
  {
   "cell_type": "code",
   "execution_count": null,
   "metadata": {},
   "outputs": [],
   "source": []
  }
 ],
 "metadata": {
  "kernelspec": {
   "display_name": "Python 3",
   "language": "python",
   "name": "python3"
  },
  "language_info": {
   "codemirror_mode": {
    "name": "ipython",
    "version": 3
   },
   "file_extension": ".py",
   "mimetype": "text/x-python",
   "name": "python",
   "nbconvert_exporter": "python",
   "pygments_lexer": "ipython3",
   "version": "3.12.7"
  }
 },
 "nbformat": 4,
 "nbformat_minor": 2
}
