{
 "cells": [
  {
   "cell_type": "code",
   "execution_count": 21,
   "metadata": {},
   "outputs": [],
   "source": [
    "import torch\n",
    "import numpy as np\n",
    "import torch.linalg as linalg\n",
    "import math"
   ]
  },
  {
   "cell_type": "code",
   "execution_count": 78,
   "metadata": {},
   "outputs": [],
   "source": [
    "def calculate_1d_wasserstein_dist(X, Y):\n",
    "    \"\"\"\n",
    "    Compute the 1D Wasserstein distance (Earth Mover's Distance) between two distributions X and Y.\n",
    "    \"\"\"\n",
    "    \n",
    "    # Ensure inputs are 1D distributions\n",
    "    if X.ndim != 1 or Y.ndim != 1:\n",
    "        raise ValueError(\"Expecting 1D inputs for X and Y!\")\n",
    "    \n",
    "    # Ensure X and Y have the same shape\n",
    "    if X.shape != Y.shape:\n",
    "        raise ValueError(\"Expecting equal shapes for X and Y!\")\n",
    "    \n",
    "    # Normalize the distributions to ensure they sum to 1 (optional depending on your case)\n",
    "    X = X / X.sum()\n",
    "    Y = Y / Y.sum()\n",
    "    \n",
    "    # Compute the cumulative distributions (CDFs)\n",
    "    cdf_X = torch.cumsum(X, dim=0)\n",
    "    cdf_Y = torch.cumsum(Y, dim=0)\n",
    "    \n",
    "    # Compute the Wasserstein distance as the L1 distance between the two CDFs\n",
    "    wasserstein_dist = torch.sum(torch.abs(cdf_X - cdf_Y))\n",
    "    \n",
    "    return wasserstein_dist"
   ]
  },
  {
   "cell_type": "code",
   "execution_count": 6,
   "metadata": {},
   "outputs": [],
   "source": [
    "import matplotlib.pyplot as plt\n",
    "import numpy as np\n",
    "import torch\n",
    "from src.number_token_loss import NumberTokenLoss\n",
    "from torch.nn.functional import softmax\n",
    "import matplotlib"
   ]
  },
  {
   "cell_type": "code",
   "execution_count": 72,
   "metadata": {},
   "outputs": [],
   "source": [
    "# Set Latex font\n",
    "\n",
    "plt.rcParams['text.usetex'] = True\n",
    "plt.rcParams['font.family'] = 'serif'"
   ]
  },
  {
   "cell_type": "code",
   "execution_count": 79,
   "metadata": {},
   "outputs": [],
   "source": [
    "# Plot 1\n",
    "\n",
    "real_number = 4\n",
    "gt = torch.Tensor([0,0,0,0,1,0,0,0,0,0])\n",
    "\n",
    "labels = torch.full((10,), 4)\n",
    "all_numbers = torch.arange(0, 10)\n",
    "logits = torch.full((10,10), 0.01)\n",
    "\n",
    "for i in range(10):\n",
    "    # Value on the diagonal sets \"spikiness\" of the distribution\n",
    "    logits[i][i] = 5\n",
    "\n",
    "logits_softmaxed = softmax(logits, dim=1)\n",
    "\n",
    "loss_ce = torch.nn.CrossEntropyLoss(reduction='none')\n",
    "loss_mse = torch.nn.MSELoss(reduction='none')\n"
   ]
  },
  {
   "cell_type": "code",
   "execution_count": 80,
   "metadata": {},
   "outputs": [],
   "source": [
    "y_hat = (logits_softmaxed*all_numbers[None,:]).sum(dim=1)\n",
    "\n",
    "loss_values_ce = loss_ce(logits,labels)\n",
    "loss_values_mse = loss_mse(y_hat, labels)\n",
    "loss_values_wass = [calculate_1d_wasserstein_dist(tensor, gt).item() for tensor in logits_softmaxed]"
   ]
  },
  {
   "cell_type": "code",
   "execution_count": 81,
   "metadata": {},
   "outputs": [
    {
     "data": {
      "image/png": "[encoded data removed]",
      "text/plain": [
       "<Figure size 400x300 with 1 Axes>"
      ]
     },
     "metadata": {},
     "output_type": "display_data"
    }
   ],
   "source": [
    "# Bar width\n",
    "bar_width = 0.25\n",
    "\n",
    "# X positions for the bars\n",
    "r1 = all_numbers - bar_width\n",
    "r2 = all_numbers + bar_width\n",
    "r3 = all_numbers\n",
    "\n",
    "# Create the plot\n",
    "plt.figure(figsize=(4, 3))\n",
    "\n",
    "# Plot bars\n",
    "plt.bar(r1, loss_values_ce, width=bar_width, color='#005293', label='$\\mathcal{L}_{CE}$')\n",
    "plt.bar(r2, 0.5*loss_values_mse, width=bar_width, color='#999999', label='$0.5*\\mathcal{L}_{NTL}$')\n",
    "#plt.bar(r3, 0.5*loss_values_mse+loss_values_ce, width=bar_width, color='#e37222', label='$0.5*\\mathcal{L}_{NTL} + \\mathcal{L}_{CE}$')\n",
    "plt.bar(r3, loss_values_wass, width=bar_width, color='#e37222', label='$\\mathcal{L}_{W}$')\n",
    "\n",
    "# Add labels\n",
    "plt.xlabel('Predicted value')\n",
    "plt.ylabel('Loss')\n",
    "plt.title('Loss comparison for different logit distributions')\n",
    "plt.xticks(all_numbers)  # Set x-ticks to be the integer values\n",
    "plt.legend()\n",
    "\n",
    "plt.savefig('loss_comparison.pdf',bbox_inches='tight')\n",
    "# Show the plot\n",
    "plt.show()\n",
    "\n",
    "#add summation"
   ]
  },
  {
   "cell_type": "code",
   "execution_count": 62,
   "metadata": {},
   "outputs": [],
   "source": [
    "# Second Plot\n",
    "\n",
    "real_number = 4\n",
    "gt = torch.Tensor([0,1,0])\n",
    "labels = torch.full((3,),1 )\n",
    "label_values = torch.full((3,), 4)\n",
    "all_numbers = torch.Tensor([3,4,5])\n",
    "logits = torch.zeros((3,3))\n",
    "\n",
    "\n",
    "logits = torch.Tensor([[0.2, 0.6, 0.2],\n",
    "                        [0.333, 0.333, 0.333],\n",
    "                        [0.45, 0.1, 0.45]])\n",
    "\n",
    "logits_softmaxed = softmax(logits, dim=1)"
   ]
  },
  {
   "cell_type": "code",
   "execution_count": 63,
   "metadata": {},
   "outputs": [],
   "source": [
    "y_hat = (logits_softmaxed*all_numbers[None,:]).sum(dim=1)\n",
    "\n",
    "loss_values_ce = loss_ce(logits,labels)\n",
    "loss_values_mse = loss_mse(y_hat, label_values)\n",
    "loss_values_wass = [calculate_1d_wasserstein_dist(tensor, gt).item() for tensor in logits_softmaxed]"
   ]
  },
  {
   "cell_type": "code",
   "execution_count": 66,
   "metadata": {},
   "outputs": [
    {
     "data": {
      "image/png": "[encoded data removed]",
      "text/plain": [
       "<Figure size 800x400 with 3 Axes>"
      ]
     },
     "metadata": {},
     "output_type": "display_data"
    }
   ],
   "source": [
    "# Bar width\n",
    "bar_width = 0.12\n",
    "\n",
    "fig, axes = plt.subplots(3, 1, figsize=(8, 4))\n",
    "\n",
    "# Loop over the subplots and plot 2 sets per subplot\n",
    "for i, ax in enumerate(axes):\n",
    "    r1 = all_numbers\n",
    "    ax.bar(r1, logits[i], width=bar_width, color='#005293')\n",
    "    if i ==0:\n",
    "        ax.title.set_text('Non-unique minima of NTL')\n",
    "\n",
    "    if i ==1:\n",
    "        ax.set_ylabel('Logit Value')\n",
    "    if i ==2:\n",
    "        ax.set_xlabel('Vocabulary')\n",
    "    # Set title and labels\n",
    "    #ax.set_ylabel('Logit Value')\n",
    "    ax.set_xticks(all_numbers)\n",
    "    ax.text(1.1, 0.65, \"$\\mathcal{L}_{CE} = $\"+f\" {round(loss_values_ce[i].item(),2)}\", transform=ax.transAxes)\n",
    "    ax.text(1.1, 0.45, \"$\\mathcal{L}_{NTL} = $\"+f\" {round(0.5*loss_values_mse[i].item(),2)}\", transform=ax.transAxes)\n",
    "    #ax.text(1.1, 0.25, \"$\\mathcal{L}_{CE}+0.5*\\mathcal{L}_{NTL} = $\"+f\" {round(loss_values_ce[i].item()+0.5*loss_values_mse[i].item(),2)}\", transform=ax.transAxes)\n",
    "    ax.text(1.1, 0.25, \"$\\mathcal{L}_{W} = $\"+f\" {round(loss_values_wass[i],2)}\", transform=ax.transAxes)\n",
    "\n",
    "plt.tight_layout()\n",
    "plt.subplots_adjust(right=0.2)\n",
    "\n",
    "plt.savefig('loss_comparison_2.pdf',bbox_inches='tight')\n",
    "\n",
    "# Adjust layout and show the plot\n",
    "plt.show()"
   ]
  }
 ],
 "metadata": {
  "kernelspec": {
   "display_name": "base",
   "language": "python",
   "name": "python3"
  },
  "language_info": {
   "codemirror_mode": {
    "name": "ipython",
    "version": 3
   },
   "file_extension": ".py",
   "mimetype": "text/x-python",
   "name": "python",
   "nbconvert_exporter": "python",
   "pygments_lexer": "ipython3",
   "version": "3.11.7"
  }
 },
 "nbformat": 4,
 "nbformat_minor": 2
}
